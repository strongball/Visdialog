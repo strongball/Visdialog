{
 "cells": [
  {
   "cell_type": "code",
   "execution_count": 1,
   "metadata": {},
   "outputs": [
    {
     "name": "stdout",
     "output_type": "stream",
     "text": [
      "cuda\n"
     ]
    }
   ],
   "source": [
    "import torch \n",
    "from torch import optim\n",
    "import torch.nn.functional as F\n",
    "from torch.nn.utils.rnn import pad_sequence\n",
    "\n",
    "import matplotlib.pyplot as plt\n",
    "\n",
    "from model.model import SentenceEncoder, SentenceDecoder, ImageEncoder, cnnTransforms\n",
    "from dataset import VisDialDataset\n",
    "from utils.token import Lang\n",
    "\n",
    "from VQA.model import VQAModel\n",
    "from VQA.utils import collate_fn, setData, trainSentence, predit\n",
    "\n",
    "jsonFile = \"/home/ball/dataset/mscoco/visdialog/visdial_1.0_val.json\"\n",
    "cocoDir = \"/home/ball/dataset/mscoco/\"\n",
    "langFile = \"dataset/lang.pkl\"\n",
    "DEVICE = torch.device(\"cuda\" if torch.cuda.is_available() else \"cpu\")\n",
    "print(DEVICE)"
   ]
  },
  {
   "cell_type": "code",
   "execution_count": 2,
   "metadata": {},
   "outputs": [
    {
     "name": "stdout",
     "output_type": "stream",
     "text": [
      "Load lang model: dataset/lang.pkl. Word size: 43974\n"
     ]
    },
    {
     "name": "stderr",
     "output_type": "stream",
     "text": [
      "Preparing image paths with image_ids: 133351it [00:00, 370994.24it/s]\n"
     ]
    }
   ],
   "source": [
    "lang = Lang.load(langFile)\n",
    "dataset = VisDialDataset(dialFile = jsonFile,\n",
    "                         cocoDir = cocoDir, \n",
    "#                          sentTransform = torch.LongTensor,\n",
    "#                          imgTransform = cnnTransforms,\n",
    "#                          convertSentence = lang.sentenceToVector\n",
    "                        )"
   ]
  },
  {
   "cell_type": "code",
   "execution_count": 3,
   "metadata": {},
   "outputs": [],
   "source": [
    "model = torch.load(\"VQA/models/first/VQAmodel.29.pth\").to(DEVICE).eval()"
   ]
  },
  {
   "cell_type": "code",
   "execution_count": 4,
   "metadata": {},
   "outputs": [],
   "source": [
    "data = dataset[966]"
   ]
  },
  {
   "cell_type": "code",
   "execution_count": 10,
   "metadata": {},
   "outputs": [
    {
     "data": {
      "text/plain": [
       "([['<SOS> yes <EOS>', 0.5751819610595703],\n",
       "  ['<SOS> no <EOS>', 0.3270225524902344],\n",
       "  ['<SOS> no idea <EOS>', 0.24922943115234375]],\n",
       " [<__main__.Beam at 0x7fb48539fda0>,\n",
       "  <__main__.Beam at 0x7fb48539fcf8>,\n",
       "  <__main__.Beam at 0x7fb48539fe48>])"
      ]
     },
     "execution_count": 10,
     "metadata": {},
     "output_type": "execute_result"
    }
   ],
   "source": [
    "beamPredit(model, DEVICE, lang, cnnTransforms(data[\"image\"]), lang.sentenceToVector(data[\"questions\"][0]), 3)"
   ]
  },
  {
   "cell_type": "code",
   "execution_count": 5,
   "metadata": {},
   "outputs": [],
   "source": [
    "class Beam():\n",
    "    def __init__(self, seq, end, scores=None, state=None):\n",
    "        self.seq = seq\n",
    "        self.state = None\n",
    "        self.scores = scores\n",
    "        self.end = end\n",
    "        \n",
    "    def getInput(self):\n",
    "        return self.seq[:, -1:], self.state\n",
    "        \n",
    "    def addState(self, next_seq, score, state):\n",
    "        seq = torch.cat([self.seq, next_seq], 1)\n",
    "        scores = torch.cat([self.scores, score], 1) if self.scores is not None else score\n",
    "        \n",
    "        return Beam(seq, \n",
    "                    self.end,\n",
    "                    scores, \n",
    "                    state)\n",
    "    def isEnd(self):\n",
    "        return self.seq[0, -1] == self.end\n",
    "    \n",
    "    def score(self):\n",
    "        if self.scores is None:\n",
    "            return -1\n",
    "        if self.isEnd():\n",
    "            endsc = 10\n",
    "        else:\n",
    "            endsc = 0\n",
    "        return self.scores.mean() + endsc\n",
    "    \n",
    "    def __lt__(self, other):\n",
    "        return self.score() < other.score()"
   ]
  },
  {
   "cell_type": "code",
   "execution_count": 11,
   "metadata": {},
   "outputs": [],
   "source": [
    "def beamPredit(model, device, lang, image, question, beamSize, MAX_LEN=20): \n",
    "    image_t = image.unsqueeze(0).to(device)\n",
    "    question_t = torch.LongTensor(question).unsqueeze(0).to(device)\n",
    "    feature = model.makeContext(image_t, question_t)\n",
    "    beams = [Beam(torch.LongTensor([[lang[\"<SOS>\"]]]).to(device), lang[\"<EOS>\"])]\n",
    "    for _ in range(MAX_LEN):\n",
    "        newBeams = []\n",
    "        for beam in beams:\n",
    "            if beam.isEnd():\n",
    "                newBeams.append(beam)\n",
    "            else:\n",
    "                pre_inputs, hidden = beam.getInput()\n",
    "                next_outputs, hidden = model.decode(pre_inputs, feature, hidden)\n",
    "\n",
    "                probs, next_outputs = next_outputs.topk(beamSize)\n",
    "                for i in range(probs.size(2)):\n",
    "                    newBeams.append(beam.addState(next_outputs[:,:,i].detach(), probs[:,:,i].detach(), hidden))\n",
    "        newBeams.sort(reverse=True)\n",
    "        beams = newBeams[:beamSize]\n",
    "    ans = []\n",
    "    for beam in beams:\n",
    "        score = (beam.score() - 10) if beam.isEnd() else beam.score()\n",
    "        ans.append([lang.vectorToSentence(beam.seq[0].cpu().numpy()), score.item()])\n",
    "    return ans"
   ]
  },
  {
   "cell_type": "code",
   "execution_count": null,
   "metadata": {},
   "outputs": [],
   "source": []
  }
 ],
 "metadata": {
  "kernelspec": {
   "display_name": "Python 3",
   "language": "python",
   "name": "python3"
  },
  "language_info": {
   "codemirror_mode": {
    "name": "ipython",
    "version": 3
   },
   "file_extension": ".py",
   "mimetype": "text/x-python",
   "name": "python",
   "nbconvert_exporter": "python",
   "pygments_lexer": "ipython3",
   "version": "3.5.5"
  }
 },
 "nbformat": 4,
 "nbformat_minor": 2
}
