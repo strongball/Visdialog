{
 "cells": [
  {
   "cell_type": "code",
   "execution_count": 1,
   "metadata": {},
   "outputs": [
    {
     "ename": "SyntaxError",
     "evalue": "invalid syntax (__init__.py, line 1)",
     "output_type": "error",
     "traceback": [
      "\u001b[0;36m  File \u001b[0;32m\"/home/ball/Documents/Visdial/dataset/__init__.py\"\u001b[0;36m, line \u001b[0;32m1\u001b[0m\n\u001b[0;31m    from ./VisDialDataset import VisDialDataset\u001b[0m\n\u001b[0m          ^\u001b[0m\n\u001b[0;31mSyntaxError\u001b[0m\u001b[0;31m:\u001b[0m invalid syntax\n"
     ]
    }
   ],
   "source": [
    "import torch \n",
    "from torch import optim\n",
    "import torch.nn.functional as F\n",
    "from torch.nn.utils.rnn import pad_sequence\n",
    "\n",
    "import matplotlib.pyplot as plt\n",
    "\n",
    "from AutoEncoder.model import AutoModel\n",
    "from AutoEncoder.utils import setData, trainSentence, collate_fn, predit, encode, decode\n",
    "\n",
    "from dataset import VisDialDataset\n",
    "from utils.token import Lang\n",
    "from tqdm import tqdm\n",
    "\n",
    "jsonFile = \"/home/ball/dataset/mscoco/visdialog/visdial_1.0_train.json\"\n",
    "cocoDir = \"/home/ball/dataset/mscoco/\"\n",
    "langFile = \"dataset/lang.pkl\"\n",
    "DEVICE = torch.device(\"cuda\" if torch.cuda.is_available() else \"cpu\")\n",
    "print(DEVICE)"
   ]
  },
  {
   "cell_type": "code",
   "execution_count": 2,
   "metadata": {},
   "outputs": [
    {
     "name": "stdout",
     "output_type": "stream",
     "text": [
      "Load lang model: dataset/lang.pkl. Word size: 43974\n"
     ]
    },
    {
     "name": "stderr",
     "output_type": "stream",
     "text": [
      "Preparing image paths with image_ids: 133351it [00:00, 381220.58it/s]\n"
     ]
    }
   ],
   "source": [
    "lang = Lang.load(langFile)\n",
    "dataset = VisDialDataset(dialFile = jsonFile,\n",
    "                         cocoDir = cocoDir, \n",
    "                         sentTransform = torch.LongTensor,\n",
    "#                          convertSentence = lang.sentenceToVector\n",
    "                        )\n",
    "# dataset = dataset.getAllSentences()"
   ]
  },
  {
   "cell_type": "code",
   "execution_count": 4,
   "metadata": {},
   "outputs": [],
   "source": [
    "import dataset"
   ]
  },
  {
   "cell_type": "code",
   "execution_count": 5,
   "metadata": {},
   "outputs": [
    {
     "data": {
      "text/plain": [
       "dataset.VisDialDataset.VisDialDataset"
      ]
     },
     "execution_count": 5,
     "metadata": {},
     "output_type": "execute_result"
    }
   ],
   "source": [
    "dataset.VisDialDataset"
   ]
  },
  {
   "cell_type": "code",
   "execution_count": 5,
   "metadata": {},
   "outputs": [],
   "source": [
    "loader = torch.utils.data.DataLoader(dataset.getAllSentences(),\n",
    "                                     batch_size=5, \n",
    "                                     shuffle=True, \n",
    "                                     num_workers=4,\n",
    "                                     collate_fn=collate_fn)\n",
    "it = iter(loader)"
   ]
  },
  {
   "cell_type": "code",
   "execution_count": 3,
   "metadata": {},
   "outputs": [
    {
     "ename": "NameError",
     "evalue": "name 'it' is not defined",
     "output_type": "error",
     "traceback": [
      "\u001b[0;31m---------------------------------------------------------------------------\u001b[0m",
      "\u001b[0;31mNameError\u001b[0m                                 Traceback (most recent call last)",
      "\u001b[0;32m<ipython-input-3-3ad44ac3d2ea>\u001b[0m in \u001b[0;36m<module>\u001b[0;34m()\u001b[0m\n\u001b[0;32m----> 1\u001b[0;31m \u001b[0mseqs\u001b[0m \u001b[0;34m=\u001b[0m \u001b[0mit\u001b[0m\u001b[0;34m.\u001b[0m\u001b[0mnext\u001b[0m\u001b[0;34m(\u001b[0m\u001b[0;34m)\u001b[0m\u001b[0;34m\u001b[0m\u001b[0m\n\u001b[0m\u001b[1;32m      2\u001b[0m \u001b[0men_seq\u001b[0m\u001b[0;34m,\u001b[0m \u001b[0mde_seq\u001b[0m \u001b[0;34m=\u001b[0m \u001b[0msetData\u001b[0m\u001b[0;34m(\u001b[0m\u001b[0mseqs\u001b[0m\u001b[0;34m,\u001b[0m \u001b[0mlang\u001b[0m\u001b[0;34m,\u001b[0m \u001b[0mDEVICE\u001b[0m\u001b[0;34m)\u001b[0m\u001b[0;34m\u001b[0m\u001b[0m\n",
      "\u001b[0;31mNameError\u001b[0m: name 'it' is not defined"
     ]
    }
   ],
   "source": [
    "seqs = it.next()\n",
    "en_seq, de_seq = setData(seqs, lang, DEVICE)"
   ]
  },
  {
   "cell_type": "code",
   "execution_count": 3,
   "metadata": {},
   "outputs": [],
   "source": [
    "model = torch.load(\"AutoEncoder/models/trainset/Automodel.29.pth\").to(DEVICE).eval()"
   ]
  },
  {
   "cell_type": "code",
   "execution_count": 28,
   "metadata": {},
   "outputs": [
    {
     "name": "stderr",
     "output_type": "stream",
     "text": [
      "100%|██████████| 1000/1000 [00:18<00:00, 54.87it/s]\n"
     ]
    }
   ],
   "source": [
    "score = []\n",
    "sents = []\n",
    "for i in tqdm(range(0000, 1000)):\n",
    "    source = dataset.data[\"dialogs\"][i][\"caption\"]\n",
    "    decode = predit(model, DEVICE, lang, lang.sentenceToVector(source))[0]\n",
    "    score.append(source == decode)\n",
    "    sents.append([source, decode])"
   ]
  },
  {
   "cell_type": "code",
   "execution_count": 19,
   "metadata": {},
   "outputs": [
    {
     "name": "stdout",
     "output_type": "stream",
     "text": [
      "Q\n"
     ]
    },
    {
     "data": {
      "text/plain": [
       "0.94199999999999995"
      ]
     },
     "execution_count": 19,
     "metadata": {},
     "output_type": "execute_result"
    }
   ],
   "source": [
    "import numpy as np\n",
    "print(\"Q\")\n",
    "np.array(score).mean()"
   ]
  },
  {
   "cell_type": "code",
   "execution_count": 21,
   "metadata": {},
   "outputs": [
    {
     "name": "stdout",
     "output_type": "stream",
     "text": [
      "A\n"
     ]
    },
    {
     "data": {
      "text/plain": [
       "0.79400000000000004"
      ]
     },
     "execution_count": 21,
     "metadata": {},
     "output_type": "execute_result"
    }
   ],
   "source": [
    "import numpy as np\n",
    "print(\"A\")\n",
    "np.array(score).mean()"
   ]
  },
  {
   "cell_type": "code",
   "execution_count": 29,
   "metadata": {},
   "outputs": [
    {
     "name": "stdout",
     "output_type": "stream",
     "text": [
      "cap\n"
     ]
    },
    {
     "data": {
      "text/plain": [
       "0.621"
      ]
     },
     "execution_count": 29,
     "metadata": {},
     "output_type": "execute_result"
    }
   ],
   "source": [
    "import numpy as np\n",
    "print(\"cap\")\n",
    "np.array(score).mean()"
   ]
  },
  {
   "cell_type": "code",
   "execution_count": 5,
   "metadata": {},
   "outputs": [],
   "source": [
    "import h5py\n",
    "f = h5py.File('visdial_train.h5', 'w')"
   ]
  },
  {
   "cell_type": "code",
   "execution_count": 6,
   "metadata": {},
   "outputs": [
    {
     "name": "stderr",
     "output_type": "stream",
     "text": [
      "100%|██████████| 123287/123287 [02:30<00:00, 817.50it/s]\n"
     ]
    }
   ],
   "source": [
    "caption_feature = []\n",
    "for source in tqdm(dataset.data[\"dialogs\"]):\n",
    "    source = source[\"caption\"]\n",
    "    feature = encode(model, DEVICE, lang, lang.sentenceToVector(source))\n",
    "    caption_feature.append(feature[0][0].detach().cpu().numpy())\n",
    "f[\"caption\"] = caption_feature"
   ]
  },
  {
   "cell_type": "code",
   "execution_count": 7,
   "metadata": {},
   "outputs": [
    {
     "name": "stderr",
     "output_type": "stream",
     "text": [
      "100%|██████████| 337527/337527 [06:48<00:00, 827.04it/s]\n"
     ]
    }
   ],
   "source": [
    "answers_feature = []\n",
    "for source in tqdm(dataset.data[\"answers\"]):\n",
    "    feature = encode(model, DEVICE, lang, lang.sentenceToVector(source))\n",
    "    answers_feature.append(feature[0][0].detach().cpu().numpy())\n",
    "f[\"answers\"] = answers_feature"
   ]
  },
  {
   "cell_type": "code",
   "execution_count": 8,
   "metadata": {},
   "outputs": [
    {
     "name": "stderr",
     "output_type": "stream",
     "text": [
      "100%|██████████| 376082/376082 [07:41<00:00, 814.99it/s]\n"
     ]
    }
   ],
   "source": [
    "questions_feature = []\n",
    "for source in tqdm(dataset.data[\"questions\"]):\n",
    "    feature = encode(model, DEVICE, lang, lang.sentenceToVector(source))\n",
    "    questions_feature.append(feature[0][0].detach().cpu().numpy())\n",
    "f[\"questions\"] = questions_feature"
   ]
  },
  {
   "cell_type": "code",
   "execution_count": 9,
   "metadata": {},
   "outputs": [],
   "source": [
    "f.close()"
   ]
  },
  {
   "cell_type": "code",
   "execution_count": 13,
   "metadata": {},
   "outputs": [],
   "source": [
    "fr = h5py.File('visdial_train.h5', 'r')"
   ]
  },
  {
   "cell_type": "code",
   "execution_count": 15,
   "metadata": {},
   "outputs": [
    {
     "data": {
      "text/plain": [
       "array([ -7.83710331e-02,   4.60426629e-01,  -2.75709391e-01,\n",
       "         3.15831542e-01,   2.79123604e-01,   3.04227173e-01,\n",
       "        -7.87969470e-01,  -1.10471603e-02,   1.95630774e-01,\n",
       "         2.87877113e-01,  -1.33238673e-01,  -7.14917034e-02,\n",
       "        -3.98376137e-01,  -1.68182269e-01,  -7.19684064e-01,\n",
       "         1.46047354e-01,  -1.47766754e-01,   4.56336737e-01,\n",
       "        -3.88716012e-01,  -1.61294162e-01,   1.21676373e+00,\n",
       "        -4.58553284e-01,   8.64968002e-01,   3.92491311e-01,\n",
       "         2.28496268e-01,   2.85082549e-01,   4.36866194e-01,\n",
       "         1.99247241e-01,   2.14725077e-01,   8.70687962e-01,\n",
       "        -5.93807042e-01,   4.15823996e-01,   4.14954722e-02,\n",
       "        -6.93105757e-01,   1.65639855e-02,  -3.30827832e-02,\n",
       "         4.12149847e-01,  -6.69730961e-01,  -2.22960502e-01,\n",
       "         1.07980147e-01,  -4.94128883e-01,   5.16955018e-01,\n",
       "        -1.52980179e-01,   7.86192179e-01,  -3.64582866e-01,\n",
       "        -5.85264266e-02,  -2.47624964e-01,   3.84946354e-02,\n",
       "         8.68316144e-02,   1.52811080e-01,   1.76954269e-01,\n",
       "         1.88819066e-01,  -3.01934868e-01,   2.87674546e-01,\n",
       "         4.16226923e-01,   4.58608605e-02,  -1.64776206e-01,\n",
       "         1.94146901e-01,  -2.03725338e-01,  -7.17675328e-01,\n",
       "         5.12773633e-01,   9.74015892e-03,   2.23997205e-01,\n",
       "        -7.63852373e-02,  -6.18710369e-02,   7.16489196e-01,\n",
       "        -5.47608733e-01,   2.63405383e-01,   1.94674388e-01,\n",
       "        -3.78593326e-01,  -1.34256929e-01,   8.90008330e-01,\n",
       "        -4.27404881e-01,   6.69057786e-01,  -5.76268695e-02,\n",
       "        -1.36399642e-01,   6.62641078e-02,   3.99220914e-01,\n",
       "        -3.68171751e-01,   1.73917517e-01,  -6.77700758e-01,\n",
       "        -5.80833912e-01,  -2.85000831e-01,   4.58869755e-01,\n",
       "        -5.72784126e-01,   3.53954375e-01,  -1.19536150e+00,\n",
       "         3.74961734e-01,  -4.43025939e-02,  -6.62062585e-01,\n",
       "         6.53300643e-01,  -3.27556320e-02,  -6.83970571e-01,\n",
       "        -2.41345286e-01,   5.20830631e-01,  -3.00008327e-01,\n",
       "        -3.12035978e-01,   1.61719859e-01,   3.06588233e-01,\n",
       "        -1.14185071e+00,   8.63724947e-03,  -6.46879494e-01,\n",
       "         3.16308811e-02,  -6.96916580e-01,   2.95526832e-01,\n",
       "        -4.12463069e-01,  -1.02194272e-01,   3.69794548e-01,\n",
       "        -3.86856377e-01,   8.81514072e-01,   1.65120065e-02,\n",
       "         9.65611637e-02,   6.63546741e-01,  -6.24563754e-01,\n",
       "        -4.28794652e-01,   2.42663771e-01,   3.16053629e-05,\n",
       "        -5.42211942e-02,   4.73637462e-01,   9.83156383e-01,\n",
       "         4.48491961e-01,   1.54223636e-01,   3.53395045e-01,\n",
       "         5.02952933e-01,  -2.65417129e-01,   1.77454680e-01,\n",
       "        -4.33665752e-01,   3.80112857e-01,   7.58703947e-01,\n",
       "         1.59229890e-01,   4.35998797e-01,   7.66365528e-01,\n",
       "        -2.20616877e-01,  -5.41481256e-01,  -5.88682413e-01,\n",
       "        -4.70122136e-02,   5.77445328e-01,  -1.43638656e-01,\n",
       "        -1.05037546e+00,   2.01027766e-01,   2.82290220e-01,\n",
       "        -3.05142105e-01,  -5.57126939e-01,  -3.18914913e-02,\n",
       "         5.93618691e-01,  -5.90896904e-01,  -3.62958387e-02,\n",
       "        -3.72695327e-01,   7.72395730e-01,   6.43235371e-02,\n",
       "        -6.41011834e-01,   2.86867410e-01,  -1.22820050e-01,\n",
       "        -7.02384531e-01,   4.98736084e-01,   4.02618080e-01,\n",
       "         1.47274449e-01,  -7.39998445e-02,  -3.77511680e-02,\n",
       "         7.24190831e-01,  -9.12513584e-03,  -3.98901343e-01,\n",
       "         5.68097830e-01,   4.47710812e-01,  -2.44032577e-01,\n",
       "         2.99118340e-01,  -5.37055492e-01,  -9.07659382e-02,\n",
       "        -2.37605512e-01,  -6.90446079e-01,  -4.37019825e-01,\n",
       "        -3.89696091e-01,   4.04886723e-01,  -2.03206778e-01,\n",
       "        -7.57780552e-01,   2.21057653e-01,   7.02613711e-01,\n",
       "        -3.14103842e-01,  -4.61715162e-01,   6.37801945e-01,\n",
       "        -5.86571217e-01,  -2.34900579e-01,   2.37344444e-01,\n",
       "        -3.41193020e-01,  -7.40390122e-01,  -7.80672058e-02,\n",
       "         5.55870533e-01,  -3.10111523e-01,  -3.57698709e-01,\n",
       "         7.80567229e-02,   7.35077262e-02,   3.73560458e-01,\n",
       "         7.05928326e-01,   3.16417277e-01,   4.82836992e-01,\n",
       "        -2.40834206e-01,  -4.28917678e-03,  -5.80890238e-01,\n",
       "         8.20004046e-02,  -2.60903746e-01,  -3.44066024e-01,\n",
       "        -2.51284927e-01,  -3.81377935e-01,  -1.48990393e-01,\n",
       "        -1.53662205e-01,   1.58438176e-01,  -5.98308966e-02,\n",
       "        -5.35672791e-02,  -7.00537086e-01,  -1.19601995e-01,\n",
       "         1.22822249e+00,   4.73223597e-01,   1.59676552e-01,\n",
       "         3.48685011e-02,   5.84893584e-01,  -3.17241490e-01,\n",
       "        -2.80982740e-02,  -5.85157424e-03,   4.97262180e-01,\n",
       "         1.08650118e-01,  -9.50588286e-03,  -1.08755581e-01,\n",
       "         6.30109966e-01,  -5.61890841e-01,  -4.85197723e-01,\n",
       "        -3.41802508e-01,   8.53715986e-02,  -2.56247222e-01,\n",
       "         3.83001447e-01,   8.36689696e-02,  -1.53771564e-01,\n",
       "         2.18249336e-01,  -5.11854947e-01,   4.86415863e-01,\n",
       "         7.07784653e-01,   3.49168964e-02,  -1.06310748e-01,\n",
       "         7.16468751e-01,   3.69507790e-01,  -3.67700934e-01,\n",
       "        -6.94442391e-01,   7.53186084e-03,  -6.19229317e-01,\n",
       "         1.11183681e-01,  -1.77383468e-01,   7.07415342e-01,\n",
       "         2.64955685e-02,  -1.48594990e-01,  -1.60474598e-01,\n",
       "         5.29766798e-01,  -2.05314606e-02,   1.35111317e-01,\n",
       "        -6.03023410e-01,   2.98987150e-01,  -7.07797855e-02,\n",
       "        -8.90901908e-02,  -2.98933446e-01,  -2.87078768e-01,\n",
       "         1.03143707e-01,   2.28287697e-01,  -2.97426760e-01,\n",
       "         9.08739090e-01,  -1.78943276e-02,  -1.42445028e-01,\n",
       "        -1.03987539e+00,   1.25652105e-02,   1.73609242e-01,\n",
       "         1.24523640e-01,  -1.90103769e-01,   7.57378399e-01,\n",
       "        -2.52699345e-01,   2.53975950e-02,   1.86396450e-01,\n",
       "        -9.44519579e-01,   3.74760777e-01,   3.44109684e-01,\n",
       "         7.84203947e-01,  -7.18370736e-01,  -4.18992102e-01,\n",
       "         5.95187321e-02,   1.78948447e-01,  -2.13279203e-01,\n",
       "        -3.13643098e-01,  -5.09130955e-01,   1.19503275e-01,\n",
       "         5.79726994e-02,   6.71472400e-02,  -8.25247645e-01,\n",
       "         1.41639680e-01,  -3.62371244e-02,   3.32182467e-01,\n",
       "         1.10572897e-01,   2.99035665e-02,   8.42939675e-01,\n",
       "         1.59968138e-01,   6.41178265e-02,   4.54412192e-01,\n",
       "         4.45798755e-01,   4.35510911e-02,   1.78010166e-01,\n",
       "        -9.23618525e-02,  -5.71448207e-01,   1.85943004e-02,\n",
       "        -7.47395307e-02,   7.67100453e-01,  -2.22183168e-01,\n",
       "         2.68450558e-01,   5.84752798e-01,   4.01998222e-01,\n",
       "        -2.96162575e-01,  -9.30162817e-02,   1.63456321e-01,\n",
       "         1.05529487e+00,   6.23755217e-01,  -2.23221630e-01,\n",
       "        -7.26284087e-02,  -2.47664511e-01,  -6.54188752e-01,\n",
       "         3.58251512e-01,  -1.35626018e-01,   2.03541443e-01,\n",
       "        -3.36525857e-01,  -4.17690665e-01,   1.28682464e-01,\n",
       "        -6.09028637e-01,   3.64839852e-01,  -2.45237082e-01,\n",
       "        -8.77144635e-02,  -4.40329611e-01,  -6.39188066e-02,\n",
       "        -1.13082424e-01,  -1.86430097e-01,   4.47098315e-02,\n",
       "         3.38023640e-02,  -6.96535349e-01,   2.90363282e-01,\n",
       "        -4.29449320e-01,  -7.43376970e-01,   3.54124784e-01,\n",
       "        -2.81301737e-02,  -1.30108863e-01,   2.24712580e-01,\n",
       "         3.26537997e-01,   4.14296612e-02,  -1.91990301e-01,\n",
       "         2.98123270e-01,  -2.40380675e-01,  -3.90855908e-01,\n",
       "         3.09457064e-01,   3.61173242e-01,  -4.62785810e-02,\n",
       "         3.36420834e-02,  -7.64477327e-02,   3.72211516e-01,\n",
       "         7.43020654e-01,   2.19086319e-01,  -7.43214726e-01,\n",
       "         5.11770070e-01,   6.01345208e-03,  -8.32414702e-02,\n",
       "         1.42277271e-01,  -5.63655317e-01,  -2.04896167e-01,\n",
       "        -5.06011307e-01,   2.36959785e-01,  -2.00799048e-01,\n",
       "         4.07606550e-03,   3.66184562e-01,   5.82544208e-02,\n",
       "         3.04628640e-01,  -2.06694007e-01,  -4.03449267e-01,\n",
       "         3.49759489e-01,  -7.09734708e-02,  -2.67528147e-02,\n",
       "        -1.69909790e-01,  -6.08497858e-01,  -5.76122165e-01,\n",
       "        -7.05972195e-01,   4.16671306e-01,   1.43247157e-01,\n",
       "        -1.66871086e-01,   4.55678463e-01,   2.20805645e-01,\n",
       "         1.89363599e-01,   1.63102120e-01,  -4.13494110e-01,\n",
       "         7.15944171e-01,   7.21810311e-02,   3.96409363e-01,\n",
       "        -1.21297345e-01,  -7.39319563e-01,   2.31903493e-01,\n",
       "        -1.99547350e-01,  -3.86785299e-01,   3.16131145e-01,\n",
       "        -7.51329884e-02,   3.11508447e-01,   3.79637241e-01,\n",
       "         6.93425298e-01,   3.67990851e-01,   4.89323616e-01,\n",
       "         8.40386033e-01,   7.40510672e-02,   6.60378754e-01,\n",
       "         8.61163378e-01,   2.78949142e-02,   5.44123277e-02,\n",
       "        -2.32188240e-01,   2.50718147e-01,  -1.52977765e-01,\n",
       "        -1.26181126e-01,   4.01575446e-01,   2.18242198e-01,\n",
       "        -2.40872711e-01,  -2.42004484e-01,  -5.31079054e-01,\n",
       "        -3.67885143e-01,  -7.52534330e-01,  -1.00757313e+00,\n",
       "         5.84075928e-01,   1.23382121e-01,  -2.71089464e-01,\n",
       "         5.47804683e-02,  -3.55272770e-01,  -3.27762850e-02,\n",
       "        -1.43909186e-01,  -2.89230764e-01,   5.45762002e-01,\n",
       "         3.51036370e-01,   2.06650957e-01,   1.18085511e-01,\n",
       "         6.84150219e-01,  -3.53629529e-01,  -1.86511755e-01,\n",
       "        -8.04088712e-02,  -1.97723776e-01,  -1.91264316e-01,\n",
       "        -7.87097588e-02,  -9.05520499e-01,   4.50387597e-01,\n",
       "        -3.30005229e-01,   4.64914739e-03,   6.85956180e-01,\n",
       "         5.23604035e-01,   2.93005377e-01,  -3.36105645e-01,\n",
       "         1.05255336e-01,  -1.62098914e-01,  -7.64662921e-01,\n",
       "         1.94920033e-01,   7.42615834e-02,  -1.00839082e-02,\n",
       "        -6.04268193e-01,   1.76641718e-01,  -3.77037168e-01,\n",
       "        -7.22194165e-02,  -6.91093206e-01,  -2.43061855e-02,\n",
       "         1.63905948e-01,  -3.19588520e-02,  -4.42360044e-01,\n",
       "         2.96283036e-01,   4.81577158e-01,   2.55379170e-01,\n",
       "        -4.83452678e-02,   5.07673264e-01,   7.41604716e-02,\n",
       "         9.44233298e-01,  -1.45360053e-01,   1.62114397e-01,\n",
       "        -2.20291227e-01,   1.53256327e-01,   2.79173255e-04,\n",
       "         6.06576085e-01,  -3.64410996e-01,  -5.93846917e-01,\n",
       "         3.07391137e-01,   2.58326411e-01,  -4.25545186e-01,\n",
       "         1.72311068e-01,  -2.35975087e-01,   3.88909876e-01,\n",
       "        -1.48720220e-02,  -5.80707848e-01,  -6.14901334e-02,\n",
       "         5.68357557e-02,   3.03485930e-01,   2.73672909e-01,\n",
       "         1.88224435e-01,   8.68725330e-02,  -1.10871339e+00,\n",
       "        -1.16020523e-01,  -2.47871447e-02,  -4.27265555e-01,\n",
       "        -3.25758517e-01,  -2.46798038e-01,  -4.16715145e-01,\n",
       "        -8.87496471e-02,  -4.22276855e-01,  -3.91751885e-01,\n",
       "        -2.73081094e-01,   4.30992573e-01,  -2.21464902e-01,\n",
       "         7.42170587e-02,  -3.91636156e-02,   1.03856184e-01,\n",
       "        -4.22893435e-01,  -4.00348276e-01,  -2.43775904e-01,\n",
       "         1.00396201e-01,   3.36668015e-01], dtype=float32)"
      ]
     },
     "execution_count": 15,
     "metadata": {},
     "output_type": "execute_result"
    }
   ],
   "source": [
    "fr[\"questions\"][0]"
   ]
  },
  {
   "cell_type": "code",
   "execution_count": null,
   "metadata": {},
   "outputs": [],
   "source": []
  }
 ],
 "metadata": {
  "kernelspec": {
   "display_name": "Python 3",
   "language": "python",
   "name": "python3"
  },
  "language_info": {
   "codemirror_mode": {
    "name": "ipython",
    "version": 3
   },
   "file_extension": ".py",
   "mimetype": "text/x-python",
   "name": "python",
   "nbconvert_exporter": "python",
   "pygments_lexer": "ipython3",
   "version": "3.5.5"
  }
 },
 "nbformat": 4,
 "nbformat_minor": 2
}
