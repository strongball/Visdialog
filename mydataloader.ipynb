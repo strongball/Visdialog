{
 "cells": [
  {
   "cell_type": "code",
   "execution_count": 1,
   "metadata": {},
   "outputs": [],
   "source": [
    "import json, os, glob\n",
    "from tqdm import tqdm\n",
    "from PIL import Image\n",
    "from torch.utils.data import Dataset\n",
    "\n",
    "langFile = \"test.pkl\"\n",
    "jsonFile = \"/home/ball/dataset/mscoco/visdialog/visdial_1.0_train.json\"\n",
    "cocoDir = \"/home/ball/dataset/mscoco/\"\n",
    "cocoFile = \"/home/ball/dataset/mscoco/visdialog/cocofile.json\""
   ]
  },
  {
   "cell_type": "code",
   "execution_count": 10,
   "metadata": {},
   "outputs": [],
   "source": [
    "class VisDialDataset(Dataset):\n",
    "    def __init__(self, dialFile, cocoDir, imgTransform=None, sentTransform=None):\n",
    "        with open(dialFile, 'r') as f:\n",
    "            self.data = json.load(f)\n",
    "            self.data = self.data[\"data\"]\n",
    "        \n",
    "        self.cocoDir = cocoDir\n",
    "        self.imageFile = {}\n",
    "        for image_path in tqdm(glob.iglob(os.path.join(self.cocoDir, '*', '*.jpg')), desc=\"Preparing image paths with image_ids\"):\n",
    "            self.imageFile[int(image_path[-12:-4])] = image_path\n",
    "        \n",
    "        self.imgTransform = imgTransform\n",
    "        self.sentTransform = None\n",
    "        self.setSentTransform(sentTransform)\n",
    "    \n",
    "    def setSentTransform(self, sentTransform):\n",
    "        if self.sentTransform:\n",
    "            raise(\"sentTransform already exist\")\n",
    "            \n",
    "        self.sentTransform = sentTransform\n",
    "        if self.sentTransform: \n",
    "            for kType in [\"questions\", \"answers\"]:\n",
    "                for idx in range(len(self.data[kType])):\n",
    "                    self.data[kType][idx] = self.sentTransform(self.data[kType][idx])\n",
    "                    \n",
    "            for idx in range(len(self.data[\"dialogs\"])):\n",
    "                self.data[\"dialogs\"][idx][\"caption\"] = self.sentTransform(self.data[\"dialogs\"][idx][\"caption\"])\n",
    "            \n",
    "    def __len__(self):\n",
    "        return len(self.data[\"dialogs\"])\n",
    "\n",
    "    def getImage(self, image_id):\n",
    "        img = Image.open(self.imageFile[image_id])\n",
    "        if self.imgTransform:\n",
    "            img = self.imgTransform(img)\n",
    "        return img\n",
    "        \n",
    "    def __getitem__(self, idx):\n",
    "        row = self.data[\"dialogs\"][idx]\n",
    "        item = {} \n",
    "        item[\"caption\"] = row[\"caption\"]\n",
    "        item[\"image\"] = self.getImage(row[\"image_id\"])\n",
    "        item[\"questions\"] = []\n",
    "        item[\"answers\"] = []\n",
    "        for i in range(10):\n",
    "            item[\"questions\"].append(self.data[\"questions\"][row[\"dialog\"][i][\"question\"]])\n",
    "            item[\"answers\"].append(self.data[\"answers\"][row[\"dialog\"][i][\"answer\"]])\n",
    "        \n",
    "        return item\n",
    "    \n",
    "    def getAllSentences(self):\n",
    "        sentences = []\n",
    "        for dialog in self.data[\"dialogs\"]:\n",
    "            sentences.append(dialog[\"caption\"])\n",
    "        sentences += self.data[\"questions\"]\n",
    "        sentences += self.data[\"answers\"]\n",
    "        return sentences"
   ]
  },
  {
   "cell_type": "code",
   "execution_count": 3,
   "metadata": {},
   "outputs": [],
   "source": [
    "from utils.token import Lang\n",
    "lang = Lang(\"Visdial\", split = \" \")"
   ]
  },
  {
   "cell_type": "code",
   "execution_count": 11,
   "metadata": {},
   "outputs": [
    {
     "name": "stderr",
     "output_type": "stream",
     "text": [
      "Preparing image paths with image_ids: 133351it [00:00, 373159.53it/s]\n"
     ]
    }
   ],
   "source": [
    "dataset = VisDialDataset(jsonFile, cocoDir)"
   ]
  },
  {
   "cell_type": "code",
   "execution_count": 5,
   "metadata": {},
   "outputs": [
    {
     "name": "stderr",
     "output_type": "stream",
     "text": [
      "Create Dict: 100%|██████████| 836896/836896 [00:02<00:00, 291913.82it/s]\n"
     ]
    }
   ],
   "source": [
    "from tqdm import tqdm\n",
    "for i, sent in enumerate(tqdm(dataset.getAllSentences(), desc=\"Create Dict\")):\n",
    "    lang.addSentance(sent)"
   ]
  },
  {
   "cell_type": "code",
   "execution_count": 6,
   "metadata": {},
   "outputs": [],
   "source": [
    "lang.save(langFile)"
   ]
  },
  {
   "cell_type": "code",
   "execution_count": 7,
   "metadata": {},
   "outputs": [],
   "source": [
    "dataset.setSentTransform(lang.sentenceToVector)"
   ]
  },
  {
   "cell_type": "code",
   "execution_count": 12,
   "metadata": {},
   "outputs": [
    {
     "data": {
      "text/plain": [
       "{'answers': ['adult',\n",
       "  'male',\n",
       "  'inside',\n",
       "  'yes, but there is a blanket in between them and the floor',\n",
       "  'it is tile',\n",
       "  'red and white',\n",
       "  'orange red',\n",
       "  'boxer',\n",
       "  'yes',\n",
       "  'tan'],\n",
       " 'caption': 'a person that is laying next to a dog',\n",
       " 'image': <PIL.JpegImagePlugin.JpegImageFile image mode=RGB size=612x612 at 0x7F2C327988D0>,\n",
       " 'questions': ['is this a child or adult',\n",
       "  'male or female',\n",
       "  'are they inside or outside',\n",
       "  'are they laying on the floor',\n",
       "  'is the floor carpeted or wooden',\n",
       "  'what color is the blanket',\n",
       "  'what color is the tile',\n",
       "  'what breed is the dog',\n",
       "  'does the dog look healthy and happy',\n",
       "  'what color is the dog']}"
      ]
     },
     "execution_count": 12,
     "metadata": {},
     "output_type": "execute_result"
    }
   ],
   "source": [
    "dataset[0]"
   ]
  },
  {
   "cell_type": "code",
   "execution_count": null,
   "metadata": {},
   "outputs": [],
   "source": []
  }
 ],
 "metadata": {
  "kernelspec": {
   "display_name": "Python 3",
   "language": "python",
   "name": "python3"
  },
  "language_info": {
   "codemirror_mode": {
    "name": "ipython",
    "version": 3
   },
   "file_extension": ".py",
   "mimetype": "text/x-python",
   "name": "python",
   "nbconvert_exporter": "python",
   "pygments_lexer": "ipython3",
   "version": "3.5.5"
  }
 },
 "nbformat": 4,
 "nbformat_minor": 2
}
