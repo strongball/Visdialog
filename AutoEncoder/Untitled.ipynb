{
 "cells": [
  {
   "cell_type": "code",
   "execution_count": 3,
   "metadata": {},
   "outputs": [],
   "source": [
    "import sys\n",
    "sys.path.append(\"..\")"
   ]
  },
  {
   "cell_type": "code",
   "execution_count": 11,
   "metadata": {},
   "outputs": [
    {
     "name": "stdout",
     "output_type": "stream",
     "text": [
      "cuda\n"
     ]
    }
   ],
   "source": [
    "import torch \n",
    "from torch import optim\n",
    "import torch.nn.functional as F\n",
    "from torch.nn.utils.rnn import pad_sequence\n",
    "\n",
    "import matplotlib.pyplot as plt\n",
    "\n",
    "from dataset import VisDialDataset\n",
    "from utils.token import Lang\n",
    "\n",
    "jsonFile = \"/home/ball/dataset/mscoco/visdialog/visdial_1.0_val.json\"\n",
    "cocoDir = \"/home/ball/dataset/mscoco/\"\n",
    "langFile = \"../dataset/lang.pkl\"\n",
    "DEVICE = torch.device(\"cuda\" if torch.cuda.is_available() else \"cpu\")\n",
    "print(DEVICE)"
   ]
  },
  {
   "cell_type": "code",
   "execution_count": 6,
   "metadata": {},
   "outputs": [],
   "source": [
    "def trainSentence(sents, SOS, EOS, device):\n",
    "    train_sents = {}\n",
    "    train_sents[\"in\"] = []\n",
    "    train_sents[\"out\"] = []    \n",
    "    \n",
    "    for sent in sents:\n",
    "        train_sents[\"in\"].append(torch.cat([sent.new([SOS]), sent]).to(device))\n",
    "        train_sents[\"out\"].append(torch.cat([sent, sent.new([EOS])]).to(device))\n",
    "    return train_sents"
   ]
  },
  {
   "cell_type": "code",
   "execution_count": 77,
   "metadata": {},
   "outputs": [],
   "source": [
    "import torch\n",
    "import torch.nn.functional as F\n",
    "from model.model import SentenceEncoder, SentenceDecoder\n",
    "\n",
    "class AutoModel(torch.nn.Module):\n",
    "    def __init__(self, encoder_setting, decoder_setting, padding_idx=0):\n",
    "        super(AutoModel, self).__init__()\n",
    "\n",
    "        self.encodeModel = SentenceEncoder(**encoder_setting)\n",
    "        decoder_setting[\"feature_size\"] = encoder_setting[\"output_size\"]\n",
    "        self.decoderModel = SentenceDecoder(**decoder_setting)\n",
    "        \n",
    "    def forward(self, encode_seqs, input_seqs, hidden=None):\n",
    "        context = self.makeContext(encode_seqs)\n",
    "        output, hidden = self.decoderModel(input_seqs, context, hidden)\n",
    "        return output, hidden\n",
    "    \n",
    "    def makeContext(self, encode_seqs):\n",
    "        en_out, _ = self.encodeModel(encode_seqs)\n",
    "        return [en_out]\n",
    "    \n",
    "    def decode(self, input_seq, context, hidden=None):\n",
    "        output, hidden = self.decoderModel(input_seq, context, hidden)\n",
    "        output = F.softmax(output, dim=2)\n",
    "        return output, hidden"
   ]
  },
  {
   "cell_type": "code",
   "execution_count": 13,
   "metadata": {},
   "outputs": [
    {
     "name": "stdout",
     "output_type": "stream",
     "text": [
      "Load lang model: ../dataset/lang.pkl. Word size: 43974\n"
     ]
    },
    {
     "name": "stderr",
     "output_type": "stream",
     "text": [
      "Preparing image paths with image_ids: 133351it [00:00, 381268.91it/s]\n"
     ]
    }
   ],
   "source": [
    "lang = Lang.load(langFile)\n",
    "dataset = VisDialDataset(dialFile = jsonFile,\n",
    "                         cocoDir = cocoDir, \n",
    "                         sentTransform = torch.LongTensor,\n",
    "                         convertSentence = lang.sentenceToVector)"
   ]
  },
  {
   "cell_type": "code",
   "execution_count": 47,
   "metadata": {},
   "outputs": [],
   "source": [
    "loader = torch.utils.data.DataLoader(dataset.getAllSentences(),\n",
    "                                     batch_size=5, \n",
    "                                     shuffle=True, \n",
    "                                     num_workers=4,\n",
    "                                     collate_fn=collate_fn)"
   ]
  },
  {
   "cell_type": "code",
   "execution_count": 48,
   "metadata": {},
   "outputs": [],
   "source": [
    "def collate_fn(batch):\n",
    "    return batch"
   ]
  },
  {
   "cell_type": "code",
   "execution_count": 59,
   "metadata": {},
   "outputs": [],
   "source": [
    "def setData(data, lang, device):\n",
    "    seqs_t = []\n",
    "    for seq in data:\n",
    "        seqs_t.append(torch.LongTensor(seq).to(device))\n",
    "        \n",
    "    decode_t = trainSentence(seqs_t, lang[\"<SOS>\"], lang[\"<EOS>\"], device)\n",
    "    decode_t[\"in\"] = pad_sequence(decode_t[\"in\"], batch_first=True)\n",
    "    decode_t[\"out\"] = pad_sequence(decode_t[\"out\"], batch_first=True)\n",
    "    encode_t = pad_sequence(seqs_t, batch_first=True)\n",
    "    return encode_t, decode_t"
   ]
  },
  {
   "cell_type": "code",
   "execution_count": 49,
   "metadata": {},
   "outputs": [],
   "source": [
    "it = iter(loader)"
   ]
  },
  {
   "cell_type": "code",
   "execution_count": 51,
   "metadata": {},
   "outputs": [],
   "source": [
    "seqs = it.next()\n",
    "en_seq, de_seq = setData(seqs, lang, DEVICE)"
   ]
  },
  {
   "cell_type": "code",
   "execution_count": 78,
   "metadata": {},
   "outputs": [],
   "source": [
    "encoder_setting = {\n",
    "    \"word_size\": len(lang),\n",
    "    \"output_size\": 512\n",
    "}\n",
    "decoder_setting = {\n",
    "    \"word_size\": len(lang),\n",
    "}\n",
    "\n",
    "model = AutoModel(encoder_setting, decoder_setting).to(DEVICE)"
   ]
  },
  {
   "cell_type": "code",
   "execution_count": 73,
   "metadata": {},
   "outputs": [],
   "source": [
    "cxt = model.makeContext(en_seq)"
   ]
  },
  {
   "cell_type": "code",
   "execution_count": 79,
   "metadata": {},
   "outputs": [
    {
     "data": {
      "text/plain": [
       "(tensor([[[-0.0000,  0.1270, -0.1571,  ...,  0.2824, -0.0007,  0.0038],\n",
       "          [-0.0710,  0.2599, -0.0645,  ...,  0.0468, -0.0819, -0.2804],\n",
       "          [-0.0000,  0.0000, -0.0685,  ..., -0.0306,  0.0762, -0.1800],\n",
       "          ...,\n",
       "          [ 0.0468,  0.0208,  0.0000,  ..., -0.0444, -0.0156,  0.0273],\n",
       "          [ 0.0475,  0.0299,  0.0391,  ..., -0.0478, -0.0111,  0.0285],\n",
       "          [ 0.0431,  0.0318,  0.0367,  ..., -0.0474, -0.0098,  0.0354]],\n",
       " \n",
       "         [[-0.1626,  0.0980, -0.1199,  ...,  0.3976,  0.1012,  0.1444],\n",
       "          [ 0.1954,  0.0000, -0.3049,  ...,  0.2141, -0.0295, -0.2370],\n",
       "          [ 0.0656,  0.0119,  0.0740,  ..., -0.0846, -0.2322, -0.4034],\n",
       "          ...,\n",
       "          [-0.1533, -0.1284,  0.1295,  ...,  0.5990,  0.1152, -0.3269],\n",
       "          [ 0.0848, -0.0416,  0.0778,  ...,  0.6078,  0.1296, -0.0667],\n",
       "          [-0.0000, -0.0000,  0.2237,  ...,  0.4336,  0.0138, -0.0989]],\n",
       " \n",
       "         [[-0.1438,  0.0815, -0.1442,  ...,  0.0000,  0.1145,  0.1583],\n",
       "          [-0.0379,  0.1623,  0.0301,  ...,  0.0089, -0.1925, -0.0139],\n",
       "          [ 0.2795,  0.2431, -0.2012,  ..., -0.0354, -0.0651, -0.3501],\n",
       "          ...,\n",
       "          [ 0.0487,  0.0441,  0.0224,  ..., -0.1006,  0.0577, -0.0094],\n",
       "          [ 0.0413,  0.0328,  0.0122,  ..., -0.0855,  0.0237,  0.0074],\n",
       "          [ 0.0402,  0.0338,  0.0223,  ..., -0.0746,  0.0089,  0.0140]],\n",
       " \n",
       "         [[-0.1582,  0.1108, -0.1694,  ...,  0.3395, -0.0309,  0.1616],\n",
       "          [-0.0000,  0.0000, -0.1756,  ...,  0.1192,  0.1785, -0.0229],\n",
       "          [ 0.0221,  0.0742,  0.0798,  ..., -0.0673,  0.3493,  0.0000],\n",
       "          ...,\n",
       "          [ 0.0159,  0.0034,  0.0537,  ..., -0.0940, -0.0233,  0.0281],\n",
       "          [ 0.0453,  0.0150,  0.0443,  ..., -0.0000, -0.0000,  0.0365],\n",
       "          [ 0.0569,  0.0272,  0.0444,  ..., -0.0776, -0.0207,  0.0467]],\n",
       " \n",
       "         [[-0.0681,  0.1764, -0.1000,  ...,  0.5213,  0.0961,  0.1660],\n",
       "          [ 0.0151,  0.1806, -0.1267,  ...,  0.1889,  0.1852, -0.0018],\n",
       "          [-0.0707,  0.1686,  0.0000,  ...,  0.1344,  0.1725,  0.0332],\n",
       "          ...,\n",
       "          [ 0.0598,  0.0058,  0.0309,  ..., -0.0983,  0.0501,  0.0210],\n",
       "          [ 0.0610,  0.0170,  0.0325,  ..., -0.0937,  0.0250,  0.0165],\n",
       "          [ 0.0536,  0.0230,  0.0000,  ..., -0.0841,  0.0081,  0.0279]]],\n",
       "        device='cuda:0', grad_fn=<TakeBackward>),\n",
       " tensor([[[-0.0517,  0.0352,  0.0811,  ..., -0.0504, -0.0656, -0.0337],\n",
       "          [-0.0609,  0.2668, -0.3401,  ..., -0.3741, -0.0707,  0.2905],\n",
       "          [-0.0926, -0.0175,  0.0380,  ..., -0.0768, -0.0757, -0.0062],\n",
       "          [-0.1075, -0.0193,  0.0888,  ..., -0.0737, -0.0806, -0.0408],\n",
       "          [-0.0759, -0.0191,  0.0827,  ..., -0.0931, -0.0674, -0.0369]]],\n",
       "        device='cuda:0', grad_fn=<CudnnRnnBackward>))"
      ]
     },
     "execution_count": 79,
     "metadata": {},
     "output_type": "execute_result"
    }
   ],
   "source": [
    "model(en_seq, de_seq[\"in\"])"
   ]
  },
  {
   "cell_type": "code",
   "execution_count": null,
   "metadata": {},
   "outputs": [],
   "source": []
  }
 ],
 "metadata": {
  "kernelspec": {
   "display_name": "Python 3",
   "language": "python",
   "name": "python3"
  },
  "language_info": {
   "codemirror_mode": {
    "name": "ipython",
    "version": 3
   },
   "file_extension": ".py",
   "mimetype": "text/x-python",
   "name": "python",
   "nbconvert_exporter": "python",
   "pygments_lexer": "ipython3",
   "version": "3.5.5"
  }
 },
 "nbformat": 4,
 "nbformat_minor": 2
}
