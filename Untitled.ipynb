{
 "cells": [
  {
   "cell_type": "code",
   "execution_count": 27,
   "metadata": {},
   "outputs": [],
   "source": [
    "import torch\n",
    "from model.model import Gesd"
   ]
  },
  {
   "cell_type": "code",
   "execution_count": 53,
   "metadata": {},
   "outputs": [],
   "source": [
    "def moveFeature(feature, power=1):\n",
    "    step = torch.randn(feature.size()) * power\n",
    "    return feature + step"
   ]
  },
  {
   "cell_type": "code",
   "execution_count": 67,
   "metadata": {},
   "outputs": [],
   "source": [
    "qfeature = torch.rand(2, 64)"
   ]
  },
  {
   "cell_type": "code",
   "execution_count": 71,
   "metadata": {},
   "outputs": [],
   "source": [
    "criterion = torch.nn.MSELoss(reduction=\"none\")"
   ]
  },
  {
   "cell_type": "code",
   "execution_count": 78,
   "metadata": {},
   "outputs": [],
   "source": [
    "after = moveFeature(qfeature, 1e-1)"
   ]
  },
  {
   "cell_type": "code",
   "execution_count": 73,
   "metadata": {},
   "outputs": [
    {
     "data": {
      "text/plain": [
       "tensor([[5.5511e-13, 1.4895e-11, 2.4949e-12, 1.5667e-10, 8.1005e-11, 3.4681e-10,\n",
       "         6.0041e-13, 2.0293e-10, 7.6771e-11, 2.5668e-11, 5.4627e-11, 1.0510e-10,\n",
       "         1.5817e-10, 3.8426e-11, 8.8818e-12, 2.0464e-12, 4.4565e-11, 1.3440e-10,\n",
       "         1.8417e-11, 8.8818e-14, 2.2204e-12, 1.5010e-11, 1.1744e-10, 7.7556e-11,\n",
       "         6.1668e-11, 1.3234e-10, 2.5517e-10, 4.1797e-10, 1.7667e-10, 1.2825e-12,\n",
       "         1.4211e-10, 9.5554e-11, 5.1436e-10, 1.1951e-11, 4.6363e-12, 3.6380e-12,\n",
       "         1.0747e-11, 8.8818e-14, 9.1234e-11, 3.7326e-11, 1.5519e-10, 7.2263e-10,\n",
       "         4.5406e-12, 5.4406e-11, 2.0304e-10, 4.5788e-10, 1.8146e-10, 1.1768e-10,\n",
       "         5.1586e-11, 1.1473e-11, 9.1519e-11, 2.7063e-10, 2.6284e-10, 2.9420e-11,\n",
       "         1.8794e-12, 3.2063e-11, 1.7667e-10, 5.3346e-12, 8.7571e-11, 1.1746e-13,\n",
       "         2.0656e-11, 8.5354e-13, 1.5242e-11, 2.9621e-12],\n",
       "        [2.0464e-12, 2.2737e-11, 2.7512e-11, 5.6403e-11, 4.7805e-11, 1.8417e-11,\n",
       "         1.6729e-10, 7.0632e-11, 2.3283e-10, 1.7039e-10, 2.4475e-11, 1.0510e-10,\n",
       "         6.4031e-11, 3.8426e-11, 1.2790e-13, 1.1141e-11, 5.3749e-11, 1.2557e-10,\n",
       "         2.9907e-11, 5.6843e-12, 5.8208e-11, 2.9744e-11, 1.6428e-11, 2.2737e-13,\n",
       "         3.8704e-11, 7.3631e-10, 2.2204e-12, 3.7691e-11, 5.2660e-12, 4.2988e-11,\n",
       "         6.7536e-10, 6.9633e-13, 1.3788e-10, 7.6771e-11, 4.4565e-11, 9.6065e-12,\n",
       "         1.2691e-10, 4.3521e-12, 1.7408e-13, 1.8794e-12, 4.1069e-12, 6.9633e-11,\n",
       "         1.3509e-10, 1.8417e-11, 9.5263e-11, 3.4142e-10, 7.1637e-11, 3.1127e-10,\n",
       "         1.3234e-10, 1.0456e-11, 2.5668e-11, 1.9127e-11, 1.5010e-11, 9.3814e-13,\n",
       "         2.2172e-11, 2.0124e-10, 7.4696e-11, 3.8455e-10, 2.4016e-12, 1.5829e-11,\n",
       "         7.0632e-11, 8.2623e-11, 5.3313e-11, 1.1639e-10]])"
      ]
     },
     "execution_count": 73,
     "metadata": {},
     "output_type": "execute_result"
    }
   ],
   "source": [
    "criterion(qfeature, after)"
   ]
  },
  {
   "cell_type": "code",
   "execution_count": 60,
   "metadata": {},
   "outputs": [],
   "source": [
    "reward = torch.nn.CosineSimilarity()"
   ]
  },
  {
   "cell_type": "code",
   "execution_count": 79,
   "metadata": {},
   "outputs": [
    {
     "data": {
      "text/plain": [
       "tensor([0.9874, 0.9898])"
      ]
     },
     "execution_count": 79,
     "metadata": {},
     "output_type": "execute_result"
    }
   ],
   "source": [
    "reward(qfeature, after)"
   ]
  },
  {
   "cell_type": "code",
   "execution_count": null,
   "metadata": {},
   "outputs": [],
   "source": []
  }
 ],
 "metadata": {
  "kernelspec": {
   "display_name": "Python 3",
   "language": "python",
   "name": "python3"
  },
  "language_info": {
   "codemirror_mode": {
    "name": "ipython",
    "version": 3
   },
   "file_extension": ".py",
   "mimetype": "text/x-python",
   "name": "python",
   "nbconvert_exporter": "python",
   "pygments_lexer": "ipython3",
   "version": "3.5.5"
  }
 },
 "nbformat": 4,
 "nbformat_minor": 2
}
